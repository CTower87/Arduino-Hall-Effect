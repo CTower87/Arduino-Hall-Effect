{
 "cells": [
  {
   "cell_type": "code",
   "execution_count": 41,
   "id": "d4801535-cb98-4a2c-b4dc-4aad9e17654d",
   "metadata": {},
   "outputs": [],
   "source": [
    "import serial\n",
    "import matplotlib.pyplot as plt\n",
    "import pandas as pd\n",
    "from pathlib import Path\n",
    "import numpy as np\n",
    "import statistics\n",
    "from scipy.optimize import curve_fit\n",
    "from scipy import stats\n",
    "\n",
    "def removevalue(oglist, value):\n",
    "    newlist = []\n",
    "    for i in oglist:\n",
    "        newlist.append(i - value)\n",
    "        \n",
    "    return newlist\n",
    "\n",
    "def currentconvert(x):\n",
    "    return(np.divide(np.subtract(x, -0.00019517069237944863), 0.000894810692382359))\n",
    "\n",
    "\n",
    "\n",
    "ser = serial.Serial('/dev/cu.usbmodem11201')"
   ]
  },
  {
   "cell_type": "code",
   "execution_count": null,
   "id": "90bbf413-036f-447c-8f90-54a63d2c29b4",
   "metadata": {},
   "outputs": [],
   "source": []
  },
  {
   "cell_type": "code",
   "execution_count": 13,
   "id": "deb85eb1-0a6d-4820-b6bf-f72228dcb550",
   "metadata": {},
   "outputs": [],
   "source": [
    "# averagevalues = [0.0026660156065999984, 0.0025957031066999986, 0.0028476562304999985, 0.0025444335765999987]\n",
    "# seventeen = [-0.012543945285900169, -0.012299804660900152]\n",
    "# sixteen = [-0.011616699191300154,-0.011553710909700156]\n",
    "# fifteen = [-0.01065917966120012, -0.010642089817600113]\n",
    "# fourteen = [-0.009801269504200075, -0.00984667966080008]\n",
    "# thirteen = [-0.008969238254100042, -0.008770019503200036]\n",
    "# twelve = [-0.007913574191499998, -0.008005859349099998]\n",
    "# eleven = [-0.0071059570048999975, -0.0072670898167999974]\n",
    "# ten = [-0.0061435546603999976, -0.006252441379099998]\n",
    "# nine = [-0.005432617161199998, -0.0053999023174999975]\n",
    "# eight = [-0.004635253881599998, -0.004487304661799998]\n",
    "# seven = [-0.003533691383899998, -0.003561523416499998]\n",
    "# six = [-0.0026142577938999983, -0.0027275390432999983]\n",
    "# fiveamps = [-0.0020737304537999986, -0.0021601562338999986]\n",
    "# fourandahalf = [-0.001643066395899999, -0.001660156237999999]\n",
    "# four = [-0.001254394520799999, -0.0011455078037999993 ]\n",
    "# threeandahalf = [-0.0007080078070999997, -0.0007324218693999996]\n",
    "# three = [-0.0002978515584999998, 0.0001704101555]\n",
    "# twoandahalf = [0.0002441406233999998, 0.00015917968569999997]\n",
    "# two = [0.0006962890563999995, 0.0008613281172999994]\n",
    "# oneandahalf = [0.001092773426899999, 0.0011235351485999994]\n",
    "# one = [0.0013696288968999995, 0.001676757800099999]\n",
    "# half = [0.001996093734299999, 0.0018959960807999991]"
   ]
  },
  {
   "cell_type": "code",
   "execution_count": 330,
   "id": "42f5ce2c-b4fc-434d-8efd-5383ada18be6",
   "metadata": {},
   "outputs": [
    {
     "name": "stdout",
     "output_type": "stream",
     "text": [
      "0.0026634521300999987\n",
      "-0.0021169433438499984\n",
      "-0.0016516113169499991\n",
      "-0.0011999511622999993\n",
      "-0.0007202148382499996\n",
      "-6.37207014999999e-05\n",
      "0.0002016601545499999\n",
      "0.0007788085868499995\n",
      "0.0011081542877499993\n",
      "0.0015231933484999992\n",
      "0.001946044907549999\n"
     ]
    }
   ],
   "source": [
    "# print(statistics.mean(averagevalues))\n",
    "# print(statistics.mean(fiveamps))\n",
    "# print(statistics.mean(fourandahalf))\n",
    "# print(statistics.mean(four))\n",
    "# print(statistics.mean(threeandahalf))\n",
    "# print(statistics.mean(three))\n",
    "# print(statistics.mean(twoandahalf))\n",
    "# print(statistics.mean(two))\n",
    "# print(statistics.mean(oneandahalf))\n",
    "# print(statistics.mean(one))\n",
    "# print(statistics.mean(half))"
   ]
  },
  {
   "cell_type": "code",
   "execution_count": null,
   "id": "f886d37a-a095-47f9-9eef-43e15a054e43",
   "metadata": {},
   "outputs": [],
   "source": []
  },
  {
   "cell_type": "code",
   "execution_count": 307,
   "id": "32880f04-c97d-4125-bddf-faf56a2963a1",
   "metadata": {},
   "outputs": [],
   "source": [
    "# average = statistics.mean(averagevalues)\n",
    "# prevalue = [statistics.mean(half), statistics.mean(one), statistics.mean(oneandahalf), statistics.mean(two), statistics.mean(twoandahalf), statistics.mean(three), statistics.mean(threeandahalf), statistics.mean(four), statistics.mean(fourandahalf), statistics.mean(fiveamps),\n",
    "#            statistics.mean(six), statistics.mean(seven), statistics.mean(eight), statistics.mean(nine), statistics.mean(ten), statistics.mean(eleven), statistics.mean(twelve), statistics.mean(thirteen), statistics.mean(fourteen), statistics.mean(fifteen),\n",
    "#            statistics.mean(sixteen), statistics.mean(seventeen)]\n",
    "# value = []\n",
    "# for i in prevalue:\n",
    "#     value.append(-(i - average))\n",
    "# current = [.5, 1, 1.5, 2, 2.5, 3, 3.5, 4, 4.5, 5, 6, 7, 8, 9, 10, 11, 12, 13, 14, 15, 16, 17]"
   ]
  },
  {
   "cell_type": "code",
   "execution_count": 322,
   "id": "426cd80e-8b57-489f-b494-c99af09da683",
   "metadata": {},
   "outputs": [
    {
     "data": {
      "text/plain": [
       "[0.001946044907549999,\n",
       " 0.0015231933484999992,\n",
       " 0.0011081542877499993,\n",
       " 0.0007788085868499995,\n",
       " 0.0002016601545499999,\n",
       " -6.37207014999999e-05,\n",
       " -0.0007202148382499996,\n",
       " -0.0011999511622999993,\n",
       " -0.0016516113169499991,\n",
       " -0.0021169433438499984,\n",
       " -0.002670898418599998,\n",
       " -0.003547607400199998,\n",
       " -0.004561279271699997,\n",
       " -0.0054162597393499975,\n",
       " -0.006197998019749998,\n",
       " -0.0071865234108499975,\n",
       " -0.007959716770299998,\n",
       " -0.008869628878650039,\n",
       " -0.009823974582500079,\n",
       " -0.010650634739400117,\n",
       " -0.011585205050500154,\n",
       " -0.01242187497340016]"
      ]
     },
     "execution_count": 322,
     "metadata": {},
     "output_type": "execute_result"
    }
   ],
   "source": [
    "prevalue"
   ]
  },
  {
   "cell_type": "code",
   "execution_count": 308,
   "id": "f079ed4c-95b1-45e1-8e5a-f9356ff04f70",
   "metadata": {},
   "outputs": [],
   "source": [
    "# df = pd.DataFrame()\n",
    "# df['Current'] = current\n",
    "# df['Value'] = value"
   ]
  },
  {
   "cell_type": "code",
   "execution_count": 309,
   "id": "60cf798d-0bef-4872-b926-78d83915224c",
   "metadata": {},
   "outputs": [
    {
     "name": "stdout",
     "output_type": "stream",
     "text": [
      "    Current     Value\n",
      "0       0.5  0.000717\n",
      "1       1.0  0.001140\n",
      "2       1.5  0.001555\n",
      "3       2.0  0.001885\n",
      "4       2.5  0.002462\n",
      "5       3.0  0.002727\n",
      "6       3.5  0.003384\n",
      "7       4.0  0.003863\n",
      "8       4.5  0.004315\n",
      "9       5.0  0.004780\n",
      "10      6.0  0.005334\n",
      "11      7.0  0.006211\n",
      "12      8.0  0.007225\n",
      "13      9.0  0.008080\n",
      "14     10.0  0.008861\n",
      "15     11.0  0.009850\n",
      "16     12.0  0.010623\n",
      "17     13.0  0.011533\n",
      "18     14.0  0.012487\n",
      "19     15.0  0.013314\n",
      "20     16.0  0.014249\n",
      "21     17.0  0.015085\n"
     ]
    }
   ],
   "source": [
    "# print(df)"
   ]
  },
  {
   "cell_type": "code",
   "execution_count": 39,
   "id": "b5964191-3049-4c2f-af24-c7154d221397",
   "metadata": {},
   "outputs": [],
   "source": [
    "def func (x, a, b):\n",
    "    return(np.multiply(x, a) + b)\n",
    "\n"
   ]
  },
  {
   "cell_type": "code",
   "execution_count": 311,
   "id": "1c8269ed-3fc7-4f9b-a663-e5d6daf52e98",
   "metadata": {},
   "outputs": [],
   "source": [
    "# slope, intercept, r_value, p_value, std_err = stats.linregress(df[\"Current\"], df[\"Value\"])"
   ]
  },
  {
   "cell_type": "code",
   "execution_count": 316,
   "id": "91d3c771-a2bf-4601-9e24-0c33fc3675e0",
   "metadata": {},
   "outputs": [
    {
     "name": "stdout",
     "output_type": "stream",
     "text": [
      "0.000870332748951813 0.00025645719288752006\n"
     ]
    }
   ],
   "source": [
    "# print(slope, intercept)"
   ]
  },
  {
   "cell_type": "code",
   "execution_count": 313,
   "id": "6c67b1b7-a72f-444d-beaf-d5fc6181b89f",
   "metadata": {},
   "outputs": [],
   "source": [
    "# xvalues = (np.arange(0,17.5,.2)).tolist()\n",
    "\n"
   ]
  },
  {
   "cell_type": "code",
   "execution_count": 314,
   "id": "7ae0a38a-0404-4aae-9fcb-fcae7631d33a",
   "metadata": {},
   "outputs": [
    {
     "name": "stdout",
     "output_type": "stream",
     "text": [
      "0.9996109445749394\n"
     ]
    }
   ],
   "source": [
    "# print(r_value**2)"
   ]
  },
  {
   "cell_type": "code",
   "execution_count": null,
   "id": "9b15b245-a46f-4e08-9926-833b18466858",
   "metadata": {},
   "outputs": [],
   "source": []
  },
  {
   "cell_type": "code",
   "execution_count": null,
   "id": "b63e778f-f241-44c0-a761-b246ae0596b7",
   "metadata": {},
   "outputs": [],
   "source": []
  },
  {
   "cell_type": "code",
   "execution_count": 315,
   "id": "54a898df-5123-4280-b578-ef6c169a0a71",
   "metadata": {},
   "outputs": [
    {
     "data": {
      "image/png": "[encoded data removed]",
      "text/plain": [
       "<Figure size 432x288 with 1 Axes>"
      ]
     },
     "metadata": {
      "needs_background": "light"
     },
     "output_type": "display_data"
    }
   ],
   "source": [
    "# #df.plot(x = \"Current\", y = \"Value\", kind = 'scatter')\n",
    "# plt.plot(df['Current'], df['Value'], \"or\", label = \"Data\")\n",
    "# plt.plot(xvalues, func(xvalues, slope, intercept), label = (\"Line of Best Fit, R^2:\", str(round(r_value**2, 3))))\n",
    "# plt.legend()\n",
    "# plt.show()\n"
   ]
  },
  {
   "cell_type": "code",
   "execution_count": null,
   "id": "0b623da6-7323-4640-b54b-09045d2c5599",
   "metadata": {},
   "outputs": [],
   "source": [
    ".9994"
   ]
  },
  {
   "cell_type": "code",
   "execution_count": null,
   "id": "7ec411cb-69e0-458a-9356-1559679fc23f",
   "metadata": {},
   "outputs": [],
   "source": []
  },
  {
   "cell_type": "code",
   "execution_count": null,
   "id": "98abb3e8-0931-4fb1-9e34-aa455df133a9",
   "metadata": {},
   "outputs": [],
   "source": []
  },
  {
   "cell_type": "code",
   "execution_count": 23,
   "id": "facc0d69-b6ea-4d84-a97d-ecd2fa0a8535",
   "metadata": {},
   "outputs": [],
   "source": [
    "ser.write((\"1\").encode(\"utf-8\"));\n",
    "\n",
    "rawdata = []\n",
    "for i in range(1000):\n",
    "    x = ser.readline()\n",
    "    x = x.decode('utf=8')\n",
    "    rawdata.append(float(x))"
   ]
  },
  {
   "cell_type": "code",
   "execution_count": 24,
   "id": "35b483ea-fa0c-4abd-b19d-fde18a34844b",
   "metadata": {},
   "outputs": [
    {
     "name": "stdout",
     "output_type": "stream",
     "text": [
      "-0.06930566403429987\n"
     ]
    }
   ],
   "source": [
    "print(sum(rawdata)/1000)"
   ]
  },
  {
   "cell_type": "code",
   "execution_count": null,
   "id": "44094909-52b5-47d0-b4d7-76caaca32517",
   "metadata": {},
   "outputs": [],
   "source": []
  },
  {
   "cell_type": "code",
   "execution_count": 334,
   "id": "84cd47a7-ef57-461b-a78c-e5ca3dedb4e7",
   "metadata": {},
   "outputs": [],
   "source": [
    "test = pd.DataFrame()\n",
    "test['Values'] = currentconvert(rawdata)"
   ]
  },
  {
   "cell_type": "code",
   "execution_count": 335,
   "id": "4a05d23f-f13f-42a0-b621-c5d66464a90e",
   "metadata": {},
   "outputs": [
    {
     "data": {
      "text/plain": [
       "<AxesSubplot:>"
      ]
     },
     "execution_count": 335,
     "metadata": {},
     "output_type": "execute_result"
    },
    {
     "data": {
      "image/png": "[encoded data removed]",
      "text/plain": [
       "<Figure size 432x288 with 1 Axes>"
      ]
     },
     "metadata": {
      "needs_background": "light"
     },
     "output_type": "display_data"
    }
   ],
   "source": [
    "test.plot()"
   ]
  },
  {
   "cell_type": "code",
   "execution_count": 328,
   "id": "f51e88f5-4575-4cb5-89a3-e74a2fd8c27b",
   "metadata": {},
   "outputs": [
    {
     "data": {
      "text/html": [
       "<div>\n",
       "<style scoped>\n",
       "    .dataframe tbody tr th:only-of-type {\n",
       "        vertical-align: middle;\n",
       "    }\n",
       "\n",
       "    .dataframe tbody tr th {\n",
       "        vertical-align: top;\n",
       "    }\n",
       "\n",
       "    .dataframe thead th {\n",
       "        text-align: right;\n",
       "    }\n",
       "</style>\n",
       "<table border=\"1\" class=\"dataframe\">\n",
       "  <thead>\n",
       "    <tr style=\"text-align: right;\">\n",
       "      <th></th>\n",
       "      <th>Values</th>\n",
       "    </tr>\n",
       "  </thead>\n",
       "  <tbody>\n",
       "    <tr>\n",
       "      <th>0</th>\n",
       "      <td>-0.000488</td>\n",
       "    </tr>\n",
       "    <tr>\n",
       "      <th>1</th>\n",
       "      <td>-0.005859</td>\n",
       "    </tr>\n",
       "    <tr>\n",
       "      <th>2</th>\n",
       "      <td>-0.000488</td>\n",
       "    </tr>\n",
       "    <tr>\n",
       "      <th>3</th>\n",
       "      <td>-0.000488</td>\n",
       "    </tr>\n",
       "    <tr>\n",
       "      <th>4</th>\n",
       "      <td>0.002441</td>\n",
       "    </tr>\n",
       "    <tr>\n",
       "      <th>...</th>\n",
       "      <td>...</td>\n",
       "    </tr>\n",
       "    <tr>\n",
       "      <th>995</th>\n",
       "      <td>0.001953</td>\n",
       "    </tr>\n",
       "    <tr>\n",
       "      <th>996</th>\n",
       "      <td>-0.001465</td>\n",
       "    </tr>\n",
       "    <tr>\n",
       "      <th>997</th>\n",
       "      <td>-0.003906</td>\n",
       "    </tr>\n",
       "    <tr>\n",
       "      <th>998</th>\n",
       "      <td>0.000488</td>\n",
       "    </tr>\n",
       "    <tr>\n",
       "      <th>999</th>\n",
       "      <td>0.002930</td>\n",
       "    </tr>\n",
       "  </tbody>\n",
       "</table>\n",
       "<p>1000 rows × 1 columns</p>\n",
       "</div>"
      ],
      "text/plain": [
       "       Values\n",
       "0   -0.000488\n",
       "1   -0.005859\n",
       "2   -0.000488\n",
       "3   -0.000488\n",
       "4    0.002441\n",
       "..        ...\n",
       "995  0.001953\n",
       "996 -0.001465\n",
       "997 -0.003906\n",
       "998  0.000488\n",
       "999  0.002930\n",
       "\n",
       "[1000 rows x 1 columns]"
      ]
     },
     "execution_count": 328,
     "metadata": {},
     "output_type": "execute_result"
    }
   ],
   "source": [
    "test\n"
   ]
  },
  {
   "cell_type": "code",
   "execution_count": null,
   "id": "552a8e1a-d420-4d2c-8a26-4ff8aa25505a",
   "metadata": {},
   "outputs": [],
   "source": []
  },
  {
   "cell_type": "code",
   "execution_count": null,
   "id": "5289d4d4-cba0-4942-9f19-ba7c47a352a8",
   "metadata": {},
   "outputs": [],
   "source": []
  },
  {
   "cell_type": "code",
   "execution_count": 27,
   "id": "452110ba-3429-439c-94b7-dfff3a1ce583",
   "metadata": {},
   "outputs": [],
   "source": [
    "\n",
    "average_values = [0.003778320291499998, 0.003669433572799998]\n",
    "\n",
    "one = [0.0029394531071999987, 0.0029536132612999985]\n",
    "two = [0.0020468749867999995, 0.002217773421099999]\n",
    "three = [0.0011704101491999996, 0.0011049804622999997]\n",
    "four = [0.0002622070292999999, 0.0003295898409999999]\n",
    "five = [-0.0005551757761999995, -0.0006035156211999997]\n",
    "six = [-0.001475585925199999, -0.0013491210835999993]\n",
    "seven = [-0.0023124999840999985, -0.0022163085789999987]\n",
    "eight= [-0.003272949197999998, -0.003046874981299999]\n",
    "nine= [-0.004065917947199999, -0.004025878883399998]\n",
    "ten= [-0.004939453103799998, -0.004953613256499998]\n",
    "eleven= [-0.005925781221199997, -0.006139160128299998]\n",
    "twelve= [-0.006901855438999998, -0.006723144502799998]\n",
    "thirteen= [-0.007555664036099998, -0.007920898410699997]\n",
    "fourteen= [-0.008429199191300026, -0.007859863254299998]\n",
    "fifteen= [-0.009529785130300077, -0.00974658200450008]\n",
    "sixteen= [-0.010577636691900118, -0.010610839816700118]\n",
    "seventeen= [-0.011197753878300125, -0.011654296848300152]"
   ]
  },
  {
   "cell_type": "code",
   "execution_count": 28,
   "id": "a106bc66-ef19-4015-ad27-d8a30ffcbf7a",
   "metadata": {},
   "outputs": [],
   "source": [
    "test2 = pd.DataFrame()\n",
    "why = [statistics.mean(one), statistics.mean(two), statistics.mean(three), statistics.mean(four), statistics.mean(five), statistics.mean(six),\n",
    "        statistics.mean(seven), statistics.mean(eight), statistics.mean(nine), statistics.mean(ten), statistics.mean(eleven), statistics.mean(twelve),\n",
    "        statistics.mean(thirteen), statistics.mean(fourteen), statistics.mean(fifteen), statistics.mean(sixteen), statistics.mean(seventeen)]\n",
    "\n",
    "average_value = statistics.mean(average_values)\n",
    "\n",
    "why2 = []\n",
    "for i in why:\n",
    "    why2.append(-np.subtract(i, average_value))"
   ]
  },
  {
   "cell_type": "code",
   "execution_count": 33,
   "id": "fc7585df-a33d-4ac5-b458-f491d2672eef",
   "metadata": {},
   "outputs": [],
   "source": [
    "averagevalues2 = [ 0.004858398413299998, 0.004706054663899998, 0.004541503885599998, 0.005111328101799998, 0.004834960914599998] \n",
    "fifty = [-0.04065771481599979]\n",
    "sixty = [-0.050636718723199754]\n",
    "seventy = [-0.060008789034999684]\n",
    "eighty = [-0.06930566403429987]\n",
    "average_value_2 = statistics.mean(averagevalues2)\n",
    "\n",
    "secondcalibrationlist = [-0.04065771481599979, -0.050636718723199754, -0.060008789034999684, -0.06930566403429987]\n",
    "\n",
    "for i in secondcalibrationlist:\n",
    "    why2.append(-np.subtract(i, average_value_2))"
   ]
  },
  {
   "cell_type": "code",
   "execution_count": 34,
   "id": "33033132-d786-42d3-8751-fdf07050b733",
   "metadata": {},
   "outputs": [],
   "source": [
    "cal2 = pd.DataFrame()\n",
    "cal2['Values'] = why2\n",
    "cal2['Current'] = [1, 2, 3, 4, 5, 6, 7, 8, 9, 10, 11, 12, 13, 14, 15, 16, 17, 50, 60, 70,80]"
   ]
  },
  {
   "cell_type": "code",
   "execution_count": 35,
   "id": "96167a00-fc0a-438e-a5f7-e4b54673affd",
   "metadata": {},
   "outputs": [],
   "source": [
    "slope, intercept, r_value, p_value, std_err = stats.linregress(cal2[\"Current\"], cal2[\"Values\"])"
   ]
  },
  {
   "cell_type": "code",
   "execution_count": 36,
   "id": "4c16cc59-c6c1-43b4-9a7c-66f2a6725f8a",
   "metadata": {},
   "outputs": [
    {
     "name": "stdout",
     "output_type": "stream",
     "text": [
      "0.0009301512506032224 -0.0005101737592010241 0.9999344778919994\n"
     ]
    }
   ],
   "source": [
    "print(slope, intercept, r_value)"
   ]
  },
  {
   "cell_type": "code",
   "execution_count": 37,
   "id": "cbb210f4-cfd3-481d-b52b-62871a9f2ecf",
   "metadata": {},
   "outputs": [],
   "source": [
    "xvalues = list(np.arange(0, 85, .2))"
   ]
  },
  {
   "cell_type": "code",
   "execution_count": 40,
   "id": "b6e53e4c-aa9c-4fa7-9c6e-ee1e2daf3918",
   "metadata": {},
   "outputs": [
    {
     "data": {
      "text/plain": [
       "<matplotlib.legend.Legend at 0x7f85aab09160>"
      ]
     },
     "execution_count": 40,
     "metadata": {},
     "output_type": "execute_result"
    },
    {
     "data": {
      "image/png": "[encoded data removed]",
      "text/plain": [
       "<Figure size 432x288 with 1 Axes>"
      ]
     },
     "metadata": {
      "needs_background": "light"
     },
     "output_type": "display_data"
    }
   ],
   "source": [
    "plt.plot(cal2['Current'], cal2['Values'], \"or\", label = 'Data')\n",
    "plt.plot(xvalues, func(xvalues, slope, intercept), label = ('Line of Best Fit, R^2:', str(round(r_value**2, 3)))) \n",
    "plt.legend()"
   ]
  },
  {
   "cell_type": "code",
   "execution_count": null,
   "id": "91d8087f-5033-42b0-b631-ec7e467b8024",
   "metadata": {},
   "outputs": [],
   "source": [
    "\n",
    "\n",
    "\n"
   ]
  },
  {
   "cell_type": "code",
   "execution_count": null,
   "id": "72d93f02-4902-4583-9069-50b2ec167663",
   "metadata": {},
   "outputs": [],
   "source": [
    "0.000894810692382359 -0.00019517069237944863 0.9994665402839202"
   ]
  }
 ],
 "metadata": {
  "kernelspec": {
   "display_name": "Python 3 (ipykernel)",
   "language": "python",
   "name": "python3"
  },
  "language_info": {
   "codemirror_mode": {
    "name": "ipython",
    "version": 3
   },
   "file_extension": ".py",
   "mimetype": "text/x-python",
   "name": "python",
   "nbconvert_exporter": "python",
   "pygments_lexer": "ipython3",
   "version": "3.9.12"
  }
 },
 "nbformat": 4,
 "nbformat_minor": 5
}
