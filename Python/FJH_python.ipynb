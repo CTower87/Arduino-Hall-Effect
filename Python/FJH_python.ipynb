{
 "cells": [
  {
   "cell_type": "code",
   "execution_count": null,
   "id": "905aa49b-da90-4ec5-883b-10e483099c7f",
   "metadata": {},
   "outputs": [],
   "source": []
  },
  {
   "cell_type": "code",
   "execution_count": 44,
   "id": "326a83bc-f9ee-45e2-a52a-951f33116c5a",
   "metadata": {},
   "outputs": [],
   "source": [
    "import serial\n",
    "import matplotlib.pyplot as plt\n",
    "import pandas as pd\n",
    "from pathlib import Path\n",
    "import numpy as np\n",
    "import statistics as stats\n",
    "from datetime import datetime\n",
    "\n",
    "def removevalue(oglist, value):\n",
    "    newlist = []\n",
    "    for i in oglist:\n",
    "        newlist.append(i - value)\n",
    "        \n",
    "    return newlist\n",
    "\n",
    "def timecorrection(oglist):\n",
    "    newlist = []\n",
    "    \n",
    "    for i in oglist:\n",
    "        newlist.append(i/1000)\n",
    "    return newlist\n",
    "\n",
    "def removeduplicates(a, colum):\n",
    "    count = 0\n",
    "    rowlist = []\n",
    "\n",
    "    for i in range(len(a[colum]) - 1):\n",
    "        if (a[colum][i] == a[colum][i+1]):\n",
    "            rowlist.append(i +1)\n",
    "        \n",
    "    for i in rowlist:\n",
    "        a = a.drop(index = i)\n",
    "        \n",
    "    a = a.reset_index(drop = True)\n",
    "\n",
    "    return a\n",
    "            \n",
    "def currentconvert(x):\n",
    "    return(np.divide(np.subtract(x,-0.00019517069237944863), 0.000894810692382359))\n",
    "    \n",
    "\n",
    "\n",
    "\n",
    "ser = serial.Serial('/dev/cu.usbserial-110', baudrate = 250000)"
   ]
  },
  {
   "cell_type": "code",
   "execution_count": 61,
   "id": "ab6ab713-152a-44f0-8411-d36f92b6c0c4",
   "metadata": {},
   "outputs": [],
   "source": [
    "filename = \"Nov21_23_flash2\"\n",
    "sample_name = \"Dry Carbon 0.0106, 8 Volts\"\n",
    "date = datetime.now()\n",
    "\n"
   ]
  },
  {
   "cell_type": "code",
   "execution_count": null,
   "id": "cc137727-a0d9-41c4-b653-f49117f69b7c",
   "metadata": {},
   "outputs": [],
   "source": []
  },
  {
   "cell_type": "code",
   "execution_count": 53,
   "id": "79ca5a89-44af-403b-9663-1cfb1b8d15ca",
   "metadata": {},
   "outputs": [],
   "source": [
    "\n",
    "ser.write((\"5000;\").encode(\"utf-8\"))\n",
    "\n",
    "avdata = []\n",
    "for i in range(50):\n",
    "    x = ser.readline()\n",
    "    x = int(x) >> 4\n",
    "    result = x / 4096 * 2\n",
    "    avdata.append(result)\n",
    "    \n",
    "    \n",
    "count = ser.readline()\n",
    "count = count.decode(\"utf-8\")\n",
    "count = int(count)\n",
    "\n",
    "\n",
    "timedata = []\n",
    "runningtime = 0\n",
    "ser.write((\";\").encode(\"utf-8\"))\n",
    "for i in range(count):\n",
    "    time = ser.readline()\n",
    "    time = int(time.decode('utf-8'))\n",
    "    runningtime += time\n",
    "    timedata.append(time)\n",
    "\n",
    "    \n",
    "values = []\n",
    "ser.write((\";\").encode(\"utf-8\"))\n",
    "for i in range(count):\n",
    "    value = int((ser.readline()).decode('utf-8'))\n",
    "    value = value >> 4\n",
    "    value = value / 4096 * 2\n",
    "    values.append(value)"
   ]
  },
  {
   "cell_type": "code",
   "execution_count": null,
   "id": "9fd036ca-b92e-47c6-8fc4-b5eed6dcf8a1",
   "metadata": {},
   "outputs": [],
   "source": []
  },
  {
   "cell_type": "code",
   "execution_count": null,
   "id": "c25ab54c-1de9-44f9-abc5-9e5354e292e2",
   "metadata": {},
   "outputs": [],
   "source": []
  },
  {
   "cell_type": "code",
   "execution_count": 35,
   "id": "bd286369-c0f4-4249-9623-eb59459a0ba1",
   "metadata": {},
   "outputs": [
    {
     "name": "stdout",
     "output_type": "stream",
     "text": [
      "27758\n"
     ]
    }
   ],
   "source": [
    "print(count)"
   ]
  },
  {
   "cell_type": "code",
   "execution_count": 26,
   "id": "04d96627-5df7-4ad4-8d3e-41d7814ca65d",
   "metadata": {},
   "outputs": [],
   "source": []
  },
  {
   "cell_type": "code",
   "execution_count": null,
   "id": "9c8f29a3-f178-460f-9c51-ae1f8df3ea51",
   "metadata": {},
   "outputs": [],
   "source": []
  },
  {
   "cell_type": "code",
   "execution_count": 27,
   "id": "32359daf-1819-464d-ad35-534d8053eefe",
   "metadata": {},
   "outputs": [],
   "source": []
  },
  {
   "cell_type": "code",
   "execution_count": 473,
   "id": "044fa47c-9aac-4777-acb2-da50109ff107",
   "metadata": {},
   "outputs": [
    {
     "name": "stdout",
     "output_type": "stream",
     "text": [
      "27758\n"
     ]
    }
   ],
   "source": [
    "print(len(values))"
   ]
  },
  {
   "cell_type": "code",
   "execution_count": 54,
   "id": "add43625-f9ea-44bf-ba2d-651825bf8eb7",
   "metadata": {},
   "outputs": [],
   "source": [
    "averagebackground = sum(avdata)/50\n",
    "correctedvalues = []\n",
    "for i in values:\n",
    "    x = -(i - averagebackground)\n",
    "    correctedvalues.append(x)\n",
    "    \n",
    "timemillis = timecorrection(timedata)"
   ]
  },
  {
   "cell_type": "code",
   "execution_count": 55,
   "id": "e9ba6693-ffcd-475c-aa0b-f98503e6aaa9",
   "metadata": {},
   "outputs": [],
   "source": [
    "current = currentconvert(correctedvalues)\n"
   ]
  },
  {
   "cell_type": "code",
   "execution_count": 56,
   "id": "41e09cee-f65e-4067-b82d-df4e63ebe840",
   "metadata": {},
   "outputs": [
    {
     "name": "stdout",
     "output_type": "stream",
     "text": [
      "27758\n"
     ]
    }
   ],
   "source": [
    "print(len(current))"
   ]
  },
  {
   "cell_type": "code",
   "execution_count": 57,
   "id": "b5159765-1fc7-4e0c-9cfb-d7aa3755e91e",
   "metadata": {},
   "outputs": [],
   "source": [
    "fulldata = pd.DataFrame()\n",
    "\n",
    "\n",
    "fulldata[\"Time\"] = timemillis\n",
    "fulldata[\"Current\"] = current\n",
    "\n",
    "\n"
   ]
  },
  {
   "cell_type": "code",
   "execution_count": 58,
   "id": "9edb19f4-90bb-4913-9969-08e2370f8304",
   "metadata": {},
   "outputs": [
    {
     "data": {
      "text/plain": [
       "0          6.089642\n",
       "1         11.000772\n",
       "2          4.998280\n",
       "3          5.543961\n",
       "4         10.455091\n",
       "            ...    \n",
       "27753    115.771536\n",
       "27754    120.136984\n",
       "27755    110.314725\n",
       "27756    125.593795\n",
       "27757    117.954260\n",
       "Name: Current, Length: 27758, dtype: float64"
      ]
     },
     "execution_count": 58,
     "metadata": {},
     "output_type": "execute_result"
    }
   ],
   "source": [
    "fulldata['Current']"
   ]
  },
  {
   "cell_type": "code",
   "execution_count": null,
   "id": "1f821cb3-333a-4027-a8c6-5d383416b65b",
   "metadata": {},
   "outputs": [],
   "source": [
    "\n"
   ]
  },
  {
   "cell_type": "code",
   "execution_count": 59,
   "id": "a58410dd-ad70-4d2d-9e7f-542a737f0af3",
   "metadata": {},
   "outputs": [
    {
     "name": "stdout",
     "output_type": "stream",
     "text": [
      "74.45081146208351\n"
     ]
    }
   ],
   "source": [
    "print(float(fulldata['Current'].mean()))"
   ]
  },
  {
   "cell_type": "code",
   "execution_count": 60,
   "id": "4dc75e8f-fd91-4714-b97f-d6f56ed0714e",
   "metadata": {},
   "outputs": [
    {
     "data": {
      "image/png": "[encoded data removed]",
      "text/plain": [
       "<Figure size 432x288 with 1 Axes>"
      ]
     },
     "metadata": {
      "needs_background": "light"
     },
     "output_type": "display_data"
    }
   ],
   "source": [
    "plt.plot(fulldata['Time'], fulldata['Current'])\n",
    "plt.xlabel(\"Time (ms)\")\n",
    "plt.ylabel('Current (A)')\n",
    "plt.show()"
   ]
  },
  {
   "cell_type": "code",
   "execution_count": 62,
   "id": "ed8e5468-554f-4cb6-8cdd-67ecf73ba2cc",
   "metadata": {},
   "outputs": [],
   "source": [
    "path = Path(\"/Users/christiannorman/Documents/Crus Center/Scholar/FJH/data/\" + filename)\n",
    "\n",
    "\n",
    "file = open(path, \"w\")\n",
    "file.write(\"Date: \" + str(date) + \"\\n\")\n",
    "file.write(\"Sample: \" + sample_name + \"\\n\\n\")\n",
    "\n",
    "file.close()\n",
    "\n",
    "\n",
    "fulldata.to_csv(path, \",\", mode = \"a\")"
   ]
  },
  {
   "cell_type": "code",
   "execution_count": 231,
   "id": "e51e12f4-c969-4bfd-a3d2-66294e5a2067",
   "metadata": {},
   "outputs": [],
   "source": [
    "zeroamp30msflash = fulldata"
   ]
  },
  {
   "cell_type": "code",
   "execution_count": 240,
   "id": "33595f6b-0321-4c93-9dd3-a845c6fd7900",
   "metadata": {},
   "outputs": [],
   "source": [
    "tenamp30msflash = fulldata"
   ]
  },
  {
   "cell_type": "code",
   "execution_count": 249,
   "id": "60cb6b66-4062-48a4-9f30-19fa3ff16efd",
   "metadata": {},
   "outputs": [],
   "source": [
    "seventeenamp30msflash = fulldata"
   ]
  },
  {
   "cell_type": "code",
   "execution_count": 260,
   "id": "e5a74e0f-5bb6-4b83-af90-0f066105926f",
   "metadata": {},
   "outputs": [
    {
     "name": "stdout",
     "output_type": "stream",
     "text": [
      "-1.0482245651070898 28.035707891922538 29.809809093208866\n"
     ]
    }
   ],
   "source": [
    "\n",
    "print(stats.mean(zeroamp30msflash['Current']), stats.mean(tenamp30msflash['Current']), stats.mean(seventeenamp30msflash['Current']))"
   ]
  },
  {
   "cell_type": "code",
   "execution_count": 284,
   "id": "49dada24-59f5-4c64-aa1b-51ec7f44b134",
   "metadata": {},
   "outputs": [
    {
     "data": {
      "text/plain": [
       "<matplotlib.legend.Legend at 0x7ff24c308d90>"
      ]
     },
     "execution_count": 284,
     "metadata": {},
     "output_type": "execute_result"
    },
    {
     "data": {
      "image/png": "[encoded data removed]",
      "text/plain": [
       "<Figure size 432x288 with 1 Axes>"
      ]
     },
     "metadata": {
      "needs_background": "light"
     },
     "output_type": "display_data"
    }
   ],
   "source": [
    "plt.plot(zeroamp30msflash['Time'], zeroamp30msflash['Current'], label = \"0\")\n",
    "plt.plot(tenamp30msflash['Time'], tenamp30msflash['Current'], label = '10')\n",
    "#plt.plot(seventeenamp30msflash['Time'], seventeenamp30msflash['Current'], label = '17')\n",
    "plt.legend()"
   ]
  },
  {
   "cell_type": "code",
   "execution_count": 283,
   "id": "963810f9-cd73-4536-bdb9-9a116cde76b6",
   "metadata": {},
   "outputs": [
    {
     "name": "stdout",
     "output_type": "stream",
     "text": [
      "694\n"
     ]
    }
   ],
   "source": [
    "print(len(tenamp30msflash['Time']))"
   ]
  },
  {
   "cell_type": "code",
   "execution_count": 297,
   "id": "9fb5051c-6e84-49aa-9559-6fec1bd41dbf",
   "metadata": {},
   "outputs": [
    {
     "name": "stdout",
     "output_type": "stream",
     "text": [
      "58\n"
     ]
    }
   ],
   "source": [
    "for i in range(695):\n",
    "    if (tenamp30msflash['Time'][i] >= 2.5):\n",
    "        print(i)\n",
    "        break\n",
    "    \n",
    "    \n"
   ]
  },
  {
   "cell_type": "code",
   "execution_count": 294,
   "id": "6ce53e6d-8525-4b00-9b66-d8beeec5ae19",
   "metadata": {},
   "outputs": [],
   "source": [
    "testlist = list(tenamp30msflash['Current'])[0: 58]"
   ]
  },
  {
   "cell_type": "code",
   "execution_count": null,
   "id": "35302ed6-81cb-4571-9dfd-e7693e94b974",
   "metadata": {},
   "outputs": [],
   "source": []
  },
  {
   "cell_type": "code",
   "execution_count": 298,
   "id": "91ee4b8d-fc2a-4231-9353-1c6acacc555d",
   "metadata": {},
   "outputs": [
    {
     "data": {
      "text/html": [
       "<div>\n",
       "<style scoped>\n",
       "    .dataframe tbody tr th:only-of-type {\n",
       "        vertical-align: middle;\n",
       "    }\n",
       "\n",
       "    .dataframe tbody tr th {\n",
       "        vertical-align: top;\n",
       "    }\n",
       "\n",
       "    .dataframe thead th {\n",
       "        text-align: right;\n",
       "    }\n",
       "</style>\n",
       "<table border=\"1\" class=\"dataframe\">\n",
       "  <thead>\n",
       "    <tr style=\"text-align: right;\">\n",
       "      <th></th>\n",
       "      <th>Time</th>\n",
       "      <th>Current</th>\n",
       "    </tr>\n",
       "  </thead>\n",
       "  <tbody>\n",
       "    <tr>\n",
       "      <th>0</th>\n",
       "      <td>0.000</td>\n",
       "      <td>3.350323</td>\n",
       "    </tr>\n",
       "    <tr>\n",
       "      <th>1</th>\n",
       "      <td>0.040</td>\n",
       "      <td>1.167599</td>\n",
       "    </tr>\n",
       "    <tr>\n",
       "      <th>2</th>\n",
       "      <td>0.084</td>\n",
       "      <td>1.167599</td>\n",
       "    </tr>\n",
       "    <tr>\n",
       "      <th>3</th>\n",
       "      <td>0.124</td>\n",
       "      <td>201.978230</td>\n",
       "    </tr>\n",
       "    <tr>\n",
       "      <th>4</th>\n",
       "      <td>0.172</td>\n",
       "      <td>201.978230</td>\n",
       "    </tr>\n",
       "    <tr>\n",
       "      <th>5</th>\n",
       "      <td>0.216</td>\n",
       "      <td>248.906802</td>\n",
       "    </tr>\n",
       "    <tr>\n",
       "      <th>6</th>\n",
       "      <td>0.268</td>\n",
       "      <td>203.069592</td>\n",
       "    </tr>\n",
       "    <tr>\n",
       "      <th>7</th>\n",
       "      <td>0.312</td>\n",
       "      <td>203.069592</td>\n",
       "    </tr>\n",
       "    <tr>\n",
       "      <th>8</th>\n",
       "      <td>0.356</td>\n",
       "      <td>135.405141</td>\n",
       "    </tr>\n",
       "    <tr>\n",
       "      <th>9</th>\n",
       "      <td>0.400</td>\n",
       "      <td>135.405141</td>\n",
       "    </tr>\n",
       "    <tr>\n",
       "      <th>10</th>\n",
       "      <td>0.440</td>\n",
       "      <td>95.570423</td>\n",
       "    </tr>\n",
       "    <tr>\n",
       "      <th>11</th>\n",
       "      <td>0.484</td>\n",
       "      <td>95.570423</td>\n",
       "    </tr>\n",
       "    <tr>\n",
       "      <th>12</th>\n",
       "      <td>0.524</td>\n",
       "      <td>68.832051</td>\n",
       "    </tr>\n",
       "    <tr>\n",
       "      <th>13</th>\n",
       "      <td>0.568</td>\n",
       "      <td>48.641851</td>\n",
       "    </tr>\n",
       "    <tr>\n",
       "      <th>14</th>\n",
       "      <td>0.612</td>\n",
       "      <td>48.641851</td>\n",
       "    </tr>\n",
       "    <tr>\n",
       "      <th>15</th>\n",
       "      <td>0.652</td>\n",
       "      <td>33.362782</td>\n",
       "    </tr>\n",
       "    <tr>\n",
       "      <th>16</th>\n",
       "      <td>0.696</td>\n",
       "      <td>33.362782</td>\n",
       "    </tr>\n",
       "    <tr>\n",
       "      <th>17</th>\n",
       "      <td>0.740</td>\n",
       "      <td>27.905971</td>\n",
       "    </tr>\n",
       "    <tr>\n",
       "      <th>18</th>\n",
       "      <td>0.780</td>\n",
       "      <td>27.905971</td>\n",
       "    </tr>\n",
       "    <tr>\n",
       "      <th>19</th>\n",
       "      <td>0.824</td>\n",
       "      <td>32.817101</td>\n",
       "    </tr>\n",
       "    <tr>\n",
       "      <th>20</th>\n",
       "      <td>0.868</td>\n",
       "      <td>27.360290</td>\n",
       "    </tr>\n",
       "    <tr>\n",
       "      <th>21</th>\n",
       "      <td>0.912</td>\n",
       "      <td>27.360290</td>\n",
       "    </tr>\n",
       "    <tr>\n",
       "      <th>22</th>\n",
       "      <td>0.952</td>\n",
       "      <td>27.360290</td>\n",
       "    </tr>\n",
       "    <tr>\n",
       "      <th>23</th>\n",
       "      <td>0.996</td>\n",
       "      <td>27.360290</td>\n",
       "    </tr>\n",
       "    <tr>\n",
       "      <th>24</th>\n",
       "      <td>1.040</td>\n",
       "      <td>27.905971</td>\n",
       "    </tr>\n",
       "    <tr>\n",
       "      <th>25</th>\n",
       "      <td>1.084</td>\n",
       "      <td>27.905971</td>\n",
       "    </tr>\n",
       "    <tr>\n",
       "      <th>26</th>\n",
       "      <td>1.124</td>\n",
       "      <td>26.814609</td>\n",
       "    </tr>\n",
       "    <tr>\n",
       "      <th>27</th>\n",
       "      <td>1.168</td>\n",
       "      <td>31.180057</td>\n",
       "    </tr>\n",
       "    <tr>\n",
       "      <th>28</th>\n",
       "      <td>1.212</td>\n",
       "      <td>31.180057</td>\n",
       "    </tr>\n",
       "    <tr>\n",
       "      <th>29</th>\n",
       "      <td>1.252</td>\n",
       "      <td>30.634376</td>\n",
       "    </tr>\n",
       "    <tr>\n",
       "      <th>30</th>\n",
       "      <td>1.304</td>\n",
       "      <td>30.634376</td>\n",
       "    </tr>\n",
       "    <tr>\n",
       "      <th>31</th>\n",
       "      <td>1.344</td>\n",
       "      <td>30.088695</td>\n",
       "    </tr>\n",
       "    <tr>\n",
       "      <th>32</th>\n",
       "      <td>1.388</td>\n",
       "      <td>30.088695</td>\n",
       "    </tr>\n",
       "    <tr>\n",
       "      <th>33</th>\n",
       "      <td>1.432</td>\n",
       "      <td>29.543014</td>\n",
       "    </tr>\n",
       "    <tr>\n",
       "      <th>34</th>\n",
       "      <td>1.476</td>\n",
       "      <td>25.177566</td>\n",
       "    </tr>\n",
       "    <tr>\n",
       "      <th>35</th>\n",
       "      <td>1.516</td>\n",
       "      <td>25.177566</td>\n",
       "    </tr>\n",
       "    <tr>\n",
       "      <th>36</th>\n",
       "      <td>1.560</td>\n",
       "      <td>26.268928</td>\n",
       "    </tr>\n",
       "    <tr>\n",
       "      <th>37</th>\n",
       "      <td>1.604</td>\n",
       "      <td>26.268928</td>\n",
       "    </tr>\n",
       "    <tr>\n",
       "      <th>38</th>\n",
       "      <td>1.648</td>\n",
       "      <td>28.451652</td>\n",
       "    </tr>\n",
       "    <tr>\n",
       "      <th>39</th>\n",
       "      <td>1.688</td>\n",
       "      <td>28.451652</td>\n",
       "    </tr>\n",
       "    <tr>\n",
       "      <th>40</th>\n",
       "      <td>1.732</td>\n",
       "      <td>30.634376</td>\n",
       "    </tr>\n",
       "    <tr>\n",
       "      <th>41</th>\n",
       "      <td>1.776</td>\n",
       "      <td>28.451652</td>\n",
       "    </tr>\n",
       "    <tr>\n",
       "      <th>42</th>\n",
       "      <td>1.820</td>\n",
       "      <td>28.451652</td>\n",
       "    </tr>\n",
       "    <tr>\n",
       "      <th>43</th>\n",
       "      <td>1.860</td>\n",
       "      <td>25.177566</td>\n",
       "    </tr>\n",
       "    <tr>\n",
       "      <th>44</th>\n",
       "      <td>1.904</td>\n",
       "      <td>25.177566</td>\n",
       "    </tr>\n",
       "    <tr>\n",
       "      <th>45</th>\n",
       "      <td>1.948</td>\n",
       "      <td>28.997333</td>\n",
       "    </tr>\n",
       "    <tr>\n",
       "      <th>46</th>\n",
       "      <td>1.992</td>\n",
       "      <td>28.997333</td>\n",
       "    </tr>\n",
       "    <tr>\n",
       "      <th>47</th>\n",
       "      <td>2.032</td>\n",
       "      <td>29.543014</td>\n",
       "    </tr>\n",
       "    <tr>\n",
       "      <th>48</th>\n",
       "      <td>2.076</td>\n",
       "      <td>29.543014</td>\n",
       "    </tr>\n",
       "    <tr>\n",
       "      <th>49</th>\n",
       "      <td>2.120</td>\n",
       "      <td>24.631885</td>\n",
       "    </tr>\n",
       "    <tr>\n",
       "      <th>50</th>\n",
       "      <td>2.160</td>\n",
       "      <td>27.360290</td>\n",
       "    </tr>\n",
       "    <tr>\n",
       "      <th>51</th>\n",
       "      <td>2.204</td>\n",
       "      <td>27.360290</td>\n",
       "    </tr>\n",
       "    <tr>\n",
       "      <th>52</th>\n",
       "      <td>2.248</td>\n",
       "      <td>28.997333</td>\n",
       "    </tr>\n",
       "    <tr>\n",
       "      <th>53</th>\n",
       "      <td>2.292</td>\n",
       "      <td>28.997333</td>\n",
       "    </tr>\n",
       "    <tr>\n",
       "      <th>54</th>\n",
       "      <td>2.340</td>\n",
       "      <td>27.360290</td>\n",
       "    </tr>\n",
       "    <tr>\n",
       "      <th>55</th>\n",
       "      <td>2.384</td>\n",
       "      <td>27.905971</td>\n",
       "    </tr>\n",
       "    <tr>\n",
       "      <th>56</th>\n",
       "      <td>2.424</td>\n",
       "      <td>27.905971</td>\n",
       "    </tr>\n",
       "    <tr>\n",
       "      <th>57</th>\n",
       "      <td>2.468</td>\n",
       "      <td>21.903479</td>\n",
       "    </tr>\n",
       "  </tbody>\n",
       "</table>\n",
       "</div>"
      ],
      "text/plain": [
       "     Time     Current\n",
       "0   0.000    3.350323\n",
       "1   0.040    1.167599\n",
       "2   0.084    1.167599\n",
       "3   0.124  201.978230\n",
       "4   0.172  201.978230\n",
       "5   0.216  248.906802\n",
       "6   0.268  203.069592\n",
       "7   0.312  203.069592\n",
       "8   0.356  135.405141\n",
       "9   0.400  135.405141\n",
       "10  0.440   95.570423\n",
       "11  0.484   95.570423\n",
       "12  0.524   68.832051\n",
       "13  0.568   48.641851\n",
       "14  0.612   48.641851\n",
       "15  0.652   33.362782\n",
       "16  0.696   33.362782\n",
       "17  0.740   27.905971\n",
       "18  0.780   27.905971\n",
       "19  0.824   32.817101\n",
       "20  0.868   27.360290\n",
       "21  0.912   27.360290\n",
       "22  0.952   27.360290\n",
       "23  0.996   27.360290\n",
       "24  1.040   27.905971\n",
       "25  1.084   27.905971\n",
       "26  1.124   26.814609\n",
       "27  1.168   31.180057\n",
       "28  1.212   31.180057\n",
       "29  1.252   30.634376\n",
       "30  1.304   30.634376\n",
       "31  1.344   30.088695\n",
       "32  1.388   30.088695\n",
       "33  1.432   29.543014\n",
       "34  1.476   25.177566\n",
       "35  1.516   25.177566\n",
       "36  1.560   26.268928\n",
       "37  1.604   26.268928\n",
       "38  1.648   28.451652\n",
       "39  1.688   28.451652\n",
       "40  1.732   30.634376\n",
       "41  1.776   28.451652\n",
       "42  1.820   28.451652\n",
       "43  1.860   25.177566\n",
       "44  1.904   25.177566\n",
       "45  1.948   28.997333\n",
       "46  1.992   28.997333\n",
       "47  2.032   29.543014\n",
       "48  2.076   29.543014\n",
       "49  2.120   24.631885\n",
       "50  2.160   27.360290\n",
       "51  2.204   27.360290\n",
       "52  2.248   28.997333\n",
       "53  2.292   28.997333\n",
       "54  2.340   27.360290\n",
       "55  2.384   27.905971\n",
       "56  2.424   27.905971\n",
       "57  2.468   21.903479"
      ]
     },
     "metadata": {},
     "output_type": "display_data"
    }
   ],
   "source": [
    "pd.set_option('display.max_rows', 1000)\n",
    "display(tenamp30msflash[0:58])"
   ]
  },
  {
   "cell_type": "code",
   "execution_count": null,
   "id": "623313e4-fd9b-4fc9-9809-9c510caa0148",
   "metadata": {},
   "outputs": [],
   "source": []
  },
  {
   "cell_type": "code",
   "execution_count": null,
   "id": "8694b6c8-4561-4463-b2bf-cbf95f8ae7af",
   "metadata": {},
   "outputs": [],
   "source": []
  },
  {
   "cell_type": "code",
   "execution_count": 296,
   "id": "0128d57d-5dbd-4998-aba0-23e78f830d65",
   "metadata": {},
   "outputs": [
    {
     "data": {
      "text/plain": [
       "17.78729256035623"
      ]
     },
     "execution_count": 296,
     "metadata": {},
     "output_type": "execute_result"
    }
   ],
   "source": [
    "stats.mean(testlist)"
   ]
  },
  {
   "cell_type": "code",
   "execution_count": null,
   "id": "da84a676-7ade-4eb4-92a1-40fb15a2a266",
   "metadata": {},
   "outputs": [],
   "source": [
    "#average after 5ms for 17amp flash: 27.999926375572198\n",
    "#average after 5ms for 10amp flash: 25.906716675935233\n",
    "#average after 5ms for 10amp flash: 17.78729256035623"
   ]
  }
 ],
 "metadata": {
  "kernelspec": {
   "display_name": "Python 3 (ipykernel)",
   "language": "python",
   "name": "python3"
  },
  "language_info": {
   "codemirror_mode": {
    "name": "ipython",
    "version": 3
   },
   "file_extension": ".py",
   "mimetype": "text/x-python",
   "name": "python",
   "nbconvert_exporter": "python",
   "pygments_lexer": "ipython3",
   "version": "3.9.12"
  }
 },
 "nbformat": 4,
 "nbformat_minor": 5
}
