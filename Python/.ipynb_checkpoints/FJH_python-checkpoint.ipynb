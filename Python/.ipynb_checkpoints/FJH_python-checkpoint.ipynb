{
 "cells": [
  {
   "cell_type": "code",
   "execution_count": null,
   "id": "905aa49b-da90-4ec5-883b-10e483099c7f",
   "metadata": {},
   "outputs": [],
   "source": []
  },
  {
   "cell_type": "code",
   "execution_count": 97,
   "id": "326a83bc-f9ee-45e2-a52a-951f33116c5a",
   "metadata": {},
   "outputs": [],
   "source": [
    "import serial\n",
    "import matplotlib.pyplot as plt\n",
    "import pandas as pd\n",
    "from pathlib import Path\n",
    "\n",
    "\n",
    "\n",
    "def removevalue(oglist, value):\n",
    "    newlist = []\n",
    "    for i in oglist:\n",
    "        newlist.append(i + value)\n",
    "        \n",
    "    return newlist\n",
    "\n",
    "def timecorrection(oglist):\n",
    "    newlist = []\n",
    "    \n",
    "    for i in oglist:\n",
    "        newlist.append(i/1000)\n",
    "    return newlist\n",
    "\n",
    "def removeduplicates(a, colum):\n",
    "    count = 0\n",
    "    rowlist = []\n",
    "\n",
    "    for i in range(len(a[colum]) - 1):\n",
    "        if (a[colum][i] == a[colum][i+1]):\n",
    "            rowlist.append(i +1)\n",
    "        \n",
    "    for i in rowlist:\n",
    "        a = a.drop(index = i)\n",
    "        \n",
    "    a = a.reset_index(drop = True)\n",
    "\n",
    "    return a\n",
    "            \n",
    "    \n",
    "\n",
    "\n",
    "\n",
    "ser = serial.Serial('/dev/cu.usbmodem11201')"
   ]
  },
  {
   "cell_type": "code",
   "execution_count": 49,
   "id": "ab6ab713-152a-44f0-8411-d36f92b6c0c4",
   "metadata": {},
   "outputs": [],
   "source": [
    "filename = \"Test\"\n",
    "sample_name = \"test\"\n",
    "date = \"9/6/23\"\n",
    "\n"
   ]
  },
  {
   "cell_type": "code",
   "execution_count": 98,
   "id": "79ca5a89-44af-403b-9663-1cfb1b8d15ca",
   "metadata": {},
   "outputs": [],
   "source": [
    "\n",
    "ser.write((\"20;\").encode(\"utf-8\"));\n",
    "\n",
    "avdata = []\n",
    "for i in range(50):\n",
    "    x = ser.readline()\n",
    "    x = x.decode('utf=8')\n",
    "    avdata.append(float(x))"
   ]
  },
  {
   "cell_type": "code",
   "execution_count": 99,
   "id": "c25ab54c-1de9-44f9-abc5-9e5354e292e2",
   "metadata": {},
   "outputs": [],
   "source": [
    "count = ser.readline()\n",
    "count = count.decode(\"utf-8\")\n",
    "count = int(count)"
   ]
  },
  {
   "cell_type": "code",
   "execution_count": 100,
   "id": "04d96627-5df7-4ad4-8d3e-41d7814ca65d",
   "metadata": {},
   "outputs": [],
   "source": [
    "timedata = []\n",
    "for i in range(count):\n",
    "    time = ser.readline()\n",
    "    time = time.decode(\"utf-8\")\n",
    "    time = int(time)\n",
    "    timedata.append(time)\n",
    "    "
   ]
  },
  {
   "cell_type": "code",
   "execution_count": 101,
   "id": "32359daf-1819-464d-ad35-534d8053eefe",
   "metadata": {},
   "outputs": [],
   "source": [
    "values = []\n",
    "for i in range(count):\n",
    "    value = ser.readline()\n",
    "    value = value.decode(\"utf-8\")\n",
    "    value = float(value)\n",
    "    values.append(value)"
   ]
  },
  {
   "cell_type": "code",
   "execution_count": 94,
   "id": "add43625-f9ea-44bf-ba2d-651825bf8eb7",
   "metadata": {},
   "outputs": [],
   "source": [
    "averagebackground = sum(avdata)/50\n",
    "correctedvalues = removevalue(values, averagebackground)\n",
    "timemillis = timecorrection(timedata)"
   ]
  },
  {
   "cell_type": "code",
   "execution_count": 102,
   "id": "e9ba6693-ffcd-475c-aa0b-f98503e6aaa9",
   "metadata": {},
   "outputs": [
    {
     "name": "stdout",
     "output_type": "stream",
     "text": [
      "0.002755301320758927\n"
     ]
    }
   ],
   "source": [
    "print(sum(values)/len(values))"
   ]
  },
  {
   "cell_type": "code",
   "execution_count": 197,
   "id": "b5159765-1fc7-4e0c-9cfb-d7aa3755e91e",
   "metadata": {},
   "outputs": [],
   "source": [
    "fulldata = pd.DataFrame()\n",
    "\n",
    "\n",
    "fulldata[\"Time\"] = timemillis\n",
    "fulldata[\"Current\"] = correctedvalues\n",
    "\n",
    "\n"
   ]
  },
  {
   "cell_type": "code",
   "execution_count": 198,
   "id": "1f821cb3-333a-4027-a8c6-5d383416b65b",
   "metadata": {},
   "outputs": [],
   "source": [
    "fulldata = removeduplicates(fulldata, \"Current\")\n"
   ]
  },
  {
   "cell_type": "code",
   "execution_count": null,
   "id": "a58410dd-ad70-4d2d-9e7f-542a737f0af3",
   "metadata": {},
   "outputs": [],
   "source": []
  },
  {
   "cell_type": "code",
   "execution_count": null,
   "id": "a5396d58-f79c-4efd-9527-782ad1a1e916",
   "metadata": {},
   "outputs": [],
   "source": []
  },
  {
   "cell_type": "code",
   "execution_count": null,
   "id": "4dc75e8f-fd91-4714-b97f-d6f56ed0714e",
   "metadata": {},
   "outputs": [],
   "source": []
  },
  {
   "cell_type": "code",
   "execution_count": 199,
   "id": "ed8e5468-554f-4cb6-8cdd-67ecf73ba2cc",
   "metadata": {},
   "outputs": [],
   "source": [
    "path = Path(\"/Users/christiannorman/Documents/Crus Center/Scholar/FJH /data/\" + filename)\n",
    "\n",
    "\n",
    "file = open(\"/Users/christiannorman/Documents/Crus Center/Scholar/FJH /data/test\", \"w\")\n",
    "file.write(\"Date: \" + date + \"\\n\")\n",
    "file.write(\"Sample: \" + sample_name + \"\\n\\n\")\n",
    "\n",
    "file.close()\n",
    "\n",
    "\n",
    "fulldata.to_csv(path, \",\", mode = \"a\")"
   ]
  },
  {
   "cell_type": "code",
   "execution_count": null,
   "id": "e51e12f4-c969-4bfd-a3d2-66294e5a2067",
   "metadata": {},
   "outputs": [],
   "source": []
  },
  {
   "cell_type": "code",
   "execution_count": null,
   "id": "33595f6b-0321-4c93-9dd3-a845c6fd7900",
   "metadata": {},
   "outputs": [],
   "source": []
  },
  {
   "cell_type": "code",
   "execution_count": null,
   "id": "60cb6b66-4062-48a4-9f30-19fa3ff16efd",
   "metadata": {},
   "outputs": [],
   "source": []
  },
  {
   "cell_type": "code",
   "execution_count": null,
   "id": "e5a74e0f-5bb6-4b83-af90-0f066105926f",
   "metadata": {},
   "outputs": [],
   "source": []
  },
  {
   "cell_type": "code",
   "execution_count": null,
   "id": "49dada24-59f5-4c64-aa1b-51ec7f44b134",
   "metadata": {},
   "outputs": [],
   "source": []
  }
 ],
 "metadata": {
  "kernelspec": {
   "display_name": "Python 3 (ipykernel)",
   "language": "python",
   "name": "python3"
  },
  "language_info": {
   "codemirror_mode": {
    "name": "ipython",
    "version": 3
   },
   "file_extension": ".py",
   "mimetype": "text/x-python",
   "name": "python",
   "nbconvert_exporter": "python",
   "pygments_lexer": "ipython3",
   "version": "3.9.12"
  }
 },
 "nbformat": 4,
 "nbformat_minor": 5
}
